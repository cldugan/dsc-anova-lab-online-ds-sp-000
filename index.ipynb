{
 "cells": [
  {
   "cell_type": "markdown",
   "metadata": {},
   "source": [
    "# ANOVA  - Lab\n",
    "\n",
    "## Introduction\n",
    "\n",
    "In this lab, you'll get some brief practice generating an ANOVA table (AOV) and interpreting its output. You'll then also perform some investigations to compare the method to the t-tests you previously employed to conduct hypothesis testing.\n",
    "\n",
    "## Objectives\n",
    "\n",
    "You will be able to:\n",
    "* Use ANOVA for testing multiple pairwise comparisons\n",
    "* Understand and explain the methodology behind ANOVA tests"
   ]
  },
  {
   "cell_type": "markdown",
   "metadata": {},
   "source": [
    "## Loading the Data\n",
    "\n",
    "Start by loading in the data stored in the file **ToothGrowth.csv**."
   ]
  },
  {
   "cell_type": "code",
   "execution_count": 2,
   "metadata": {},
   "outputs": [
    {
     "data": {
      "text/html": [
       "<div>\n",
       "<style scoped>\n",
       "    .dataframe tbody tr th:only-of-type {\n",
       "        vertical-align: middle;\n",
       "    }\n",
       "\n",
       "    .dataframe tbody tr th {\n",
       "        vertical-align: top;\n",
       "    }\n",
       "\n",
       "    .dataframe thead th {\n",
       "        text-align: right;\n",
       "    }\n",
       "</style>\n",
       "<table border=\"1\" class=\"dataframe\">\n",
       "  <thead>\n",
       "    <tr style=\"text-align: right;\">\n",
       "      <th></th>\n",
       "      <th>len</th>\n",
       "      <th>supp</th>\n",
       "      <th>dose</th>\n",
       "    </tr>\n",
       "  </thead>\n",
       "  <tbody>\n",
       "    <tr>\n",
       "      <th>0</th>\n",
       "      <td>4.2</td>\n",
       "      <td>VC</td>\n",
       "      <td>0.5</td>\n",
       "    </tr>\n",
       "    <tr>\n",
       "      <th>1</th>\n",
       "      <td>11.5</td>\n",
       "      <td>VC</td>\n",
       "      <td>0.5</td>\n",
       "    </tr>\n",
       "    <tr>\n",
       "      <th>2</th>\n",
       "      <td>7.3</td>\n",
       "      <td>VC</td>\n",
       "      <td>0.5</td>\n",
       "    </tr>\n",
       "    <tr>\n",
       "      <th>3</th>\n",
       "      <td>5.8</td>\n",
       "      <td>VC</td>\n",
       "      <td>0.5</td>\n",
       "    </tr>\n",
       "    <tr>\n",
       "      <th>4</th>\n",
       "      <td>6.4</td>\n",
       "      <td>VC</td>\n",
       "      <td>0.5</td>\n",
       "    </tr>\n",
       "  </tbody>\n",
       "</table>\n",
       "</div>"
      ],
      "text/plain": [
       "    len supp  dose\n",
       "0   4.2   VC   0.5\n",
       "1  11.5   VC   0.5\n",
       "2   7.3   VC   0.5\n",
       "3   5.8   VC   0.5\n",
       "4   6.4   VC   0.5"
      ]
     },
     "execution_count": 2,
     "metadata": {},
     "output_type": "execute_result"
    }
   ],
   "source": [
    "# Your code here\n",
    "\n",
    "import pandas as pd\n",
    "import statsmodels.api as sm\n",
    "from statsmodels.formula.api import ols\n",
    "\n",
    "df = pd.read_csv('ToothGrowth.csv')\n",
    "df.head()"
   ]
  },
  {
   "cell_type": "markdown",
   "metadata": {},
   "source": [
    "## Generating the ANOVA Table\n",
    "\n",
    "Now generate an ANOVA table in order to analyze the influence of the medication and dosage "
   ]
  },
  {
   "cell_type": "code",
   "execution_count": 3,
   "metadata": {},
   "outputs": [
    {
     "name": "stdout",
     "output_type": "stream",
     "text": [
      "               sum_sq    df           F        PR(>F)\n",
      "C(supp)    205.350000   1.0   11.446768  1.300662e-03\n",
      "dose      2224.304298   1.0  123.988774  6.313519e-16\n",
      "Residual  1022.555036  57.0         NaN           NaN\n"
     ]
    }
   ],
   "source": [
    "#Your code here\n",
    "formula = 'len ~ C(supp) + dose'\n",
    "lm = ols(formula, df).fit()\n",
    "table = sm.stats.anova_lm(lm, typ=2)\n",
    "print(table)"
   ]
  },
  {
   "cell_type": "markdown",
   "metadata": {},
   "source": [
    "## Reading the Table\n",
    "\n",
    "Make a brief comment regarding the statistics regarding the effect of supplement and dosage on tooth length."
   ]
  },
  {
   "cell_type": "code",
   "execution_count": 4,
   "metadata": {},
   "outputs": [],
   "source": [
    "# Your comment here\n",
    "# Both factors are influential, with dose seeming to be the most influential."
   ]
  },
  {
   "cell_type": "markdown",
   "metadata": {},
   "source": [
    "## Comparing to T-Tests\n",
    "\n",
    "Now that you've gotten a brief chance to interact with ANOVA, its interesting to compare the results to those from the t-tests you were just working with. With that, start by breaking the data into two samples: those given the OJ supplement, and those given the VC supplement. Afterwards, you'll conduct a t-test to compare the tooth length of these two different samples."
   ]
  },
  {
   "cell_type": "code",
   "execution_count": 19,
   "metadata": {},
   "outputs": [],
   "source": [
    "#Your code here\n",
    "\n",
    "oj_df = df[df.supp == 'OJ']['len']\n",
    "vc_df = df[df.supp == 'VC']['len']\n"
   ]
  },
  {
   "cell_type": "markdown",
   "metadata": {},
   "source": [
    "Now compare a t-test between these two groups and print the associated two-sided p-value."
   ]
  },
  {
   "cell_type": "code",
   "execution_count": 16,
   "metadata": {},
   "outputs": [],
   "source": [
    "#Your code here; calculate the 2-sided p-value for a t-test comparing the two supplement groups.\n",
    "from scipy import stats\n",
    "import numpy as np\n",
    "\"\"\" Calculate Welch's t statistic for two samples. \"\"\"\n",
    "def welch_t(a, b):\n",
    "    \n",
    "    n1 = len(a)\n",
    "    n2 = len(b)\n",
    "    s1 = np.var(a, ddof=1)\n",
    "    s2 = np.var(b, ddof=1)\n",
    "    x1 = np.mean(a)\n",
    "    x2 = np.mean(b)\n",
    "    \n",
    "    num = abs(x1-x2)\n",
    "    denom = np.sqrt((s1/n1)+(s2/n2))\n",
    "    \n",
    "    return num/denom\n",
    "\n",
    "\n",
    "\"\"\" Calculate the effective degrees of freedom for two samples. \"\"\"\n",
    "def welch_df(a, b):\n",
    "    s1 = np.var(a, ddof=1)\n",
    "    s2 = np.var(b, ddof=1)\n",
    "    n1 = len(a)\n",
    "    n2 = len(b)\n",
    "    v1 = n1-1\n",
    "    v2 = n2-1\n",
    "    \n",
    "    num = ((s1/n1)+(s2/n2))**2\n",
    "    denom = (s1**2/((n1**2)*v1))+(s2**2/((n2**2)*v2))\n",
    "\n",
    "    return num/denom\n",
    "\n",
    "def p_value(a, b, two_sided=False):\n",
    "    #Your code here\n",
    "    t = welch_t(a,b)\n",
    "    df = welch_df(a,b)\n",
    "    p = 1-stats.t.cdf(t,df)\n",
    "    \n",
    "    if two_sided:\n",
    "        p = p*2\n",
    "    return p"
   ]
  },
  {
   "cell_type": "code",
   "execution_count": 20,
   "metadata": {},
   "outputs": [
    {
     "data": {
      "text/plain": [
       "0.06063450788093405"
      ]
     },
     "execution_count": 20,
     "metadata": {},
     "output_type": "execute_result"
    }
   ],
   "source": [
    "p = p_value(vc_df, oj_df, two_sided=True)\n",
    "p"
   ]
  },
  {
   "cell_type": "code",
   "execution_count": 22,
   "metadata": {},
   "outputs": [
    {
     "data": {
      "text/plain": [
       "Ttest_indResult(statistic=-1.91526826869527, pvalue=0.06039337122412849)"
      ]
     },
     "execution_count": 22,
     "metadata": {},
     "output_type": "execute_result"
    }
   ],
   "source": [
    "stats.ttest_ind(vc_df, oj_df)"
   ]
  },
  {
   "cell_type": "markdown",
   "metadata": {},
   "source": [
    "## A 2-Category ANOVA F-Test is Equivalent to a 2-Tailed t-Test!\n",
    "\n",
    "Now, recalculate an ANOVA F-test with only the supplement variable. An ANOVA F-test between two categories is the same as performing a 2-tailed t-Test! So, the p-value in the table should be identical to your calculation above.\n",
    "\n",
    "> Note: there may be a small fractional difference (>0.001) between the two values due to a rounding error between implementations. "
   ]
  },
  {
   "cell_type": "code",
   "execution_count": 23,
   "metadata": {},
   "outputs": [
    {
     "name": "stdout",
     "output_type": "stream",
     "text": [
      "               sum_sq    df         F    PR(>F)\n",
      "C(supp)    205.350000   1.0  3.668253  0.060393\n",
      "Residual  3246.859333  58.0       NaN       NaN\n"
     ]
    }
   ],
   "source": [
    "#Your code here; conduct an ANOVA F-test of the oj and vc supplement groups.\n",
    "#Compare the p-value to that of the t-test above. \n",
    "#They should match (there may be a tiny fractional difference due to rounding errors in varying implementations)\n",
    "formula = 'len ~ C(supp)'\n",
    "lm = ols(formula, df).fit()\n",
    "table = sm.stats.anova_lm(lm, typ=2)\n",
    "print(table)"
   ]
  },
  {
   "cell_type": "markdown",
   "metadata": {},
   "source": [
    "## Generating Multiple T-Tests\n",
    "\n",
    "While the 2-category ANOVA test is identical to a 2-tailed t-Test, performing multiple t-tests leads to the multiple comparisons problem. To investigate this, look at the various sample groups you could create from the 2 features: "
   ]
  },
  {
   "cell_type": "code",
   "execution_count": 6,
   "metadata": {},
   "outputs": [
    {
     "name": "stdout",
     "output_type": "stream",
     "text": [
      "('OJ', 0.5)\n",
      "('OJ', 1.0)\n",
      "('OJ', 2.0)\n",
      "('VC', 0.5)\n",
      "('VC', 1.0)\n",
      "('VC', 2.0)\n"
     ]
    }
   ],
   "source": [
    "for group in df.groupby(['supp', 'dose'])['len']:\n",
    "    group_name = group[0]\n",
    "    data = group[1]\n",
    "    print(group_name)"
   ]
  },
  {
   "cell_type": "markdown",
   "metadata": {},
   "source": [
    "While bad practice, examine the effects of calculating multiple t-tests with the various combinations of these. To do this, generate all combinations of the above groups. For each pairwise combination, calculate the p-value of a 2 sided t-test. Print the group combinations and their associated p-value for the two-sided t-test."
   ]
  },
  {
   "cell_type": "code",
   "execution_count": 24,
   "metadata": {},
   "outputs": [],
   "source": [
    "#Your code here; reuse your $t$-test code above to calculate the p-value for a 2-sided $t$-test\n",
    "#for all combinations of the supplement-dose groups listed above. \n",
    "#(Since there isn't a control group, compare each group to every other group.)\n",
    "\n",
    "pairs ={}\n",
    "for group in df.groupby(['supp', 'dose'])['len']:\n",
    "    group_name = group[0]\n",
    "    data = group[1]\n",
    "    pairs[group_name] = data\n",
    "    "
   ]
  },
  {
   "cell_type": "code",
   "execution_count": 27,
   "metadata": {},
   "outputs": [
    {
     "name": "stdout",
     "output_type": "stream",
     "text": [
      "('OJ', 0.5) ('OJ', 1.0) 8.784919055160323e-05\n",
      "('OJ', 0.5) ('OJ', 2.0) 1.323783877626994e-06\n",
      "('OJ', 0.5) ('VC', 0.5) 0.00635860676409683\n",
      "('OJ', 0.5) ('VC', 1.0) 0.04601033257637588\n",
      "('OJ', 0.5) ('VC', 2.0) 7.196253523966689e-06\n",
      "('OJ', 1.0) ('OJ', 0.5) 8.784919055160323e-05\n",
      "('OJ', 1.0) ('OJ', 2.0) 0.03919514204624397\n",
      "('OJ', 1.0) ('VC', 0.5) 3.655206737285255e-08\n",
      "('OJ', 1.0) ('VC', 1.0) 0.0010383758722998238\n",
      "('OJ', 1.0) ('VC', 2.0) 0.09652612338267019\n",
      "('OJ', 2.0) ('OJ', 0.5) 1.323783877626994e-06\n",
      "('OJ', 2.0) ('OJ', 1.0) 0.03919514204624397\n",
      "('OJ', 2.0) ('VC', 0.5) 1.3621326289126046e-11\n",
      "('OJ', 2.0) ('VC', 1.0) 2.3610742028168374e-07\n",
      "('OJ', 2.0) ('VC', 2.0) 0.9638515887233756\n",
      "('VC', 0.5) ('OJ', 0.5) 0.00635860676409683\n",
      "('VC', 0.5) ('OJ', 1.0) 3.655206737285255e-08\n",
      "('VC', 0.5) ('OJ', 2.0) 1.3621326289126046e-11\n",
      "('VC', 0.5) ('VC', 1.0) 6.811017703167721e-07\n",
      "('VC', 0.5) ('VC', 2.0) 4.681577414622495e-08\n",
      "('VC', 1.0) ('OJ', 0.5) 0.04601033257637588\n",
      "('VC', 1.0) ('OJ', 1.0) 0.0010383758722998238\n",
      "('VC', 1.0) ('OJ', 2.0) 2.3610742028168374e-07\n",
      "('VC', 1.0) ('VC', 0.5) 6.811017703167721e-07\n",
      "('VC', 1.0) ('VC', 2.0) 9.155603056631989e-05\n",
      "('VC', 2.0) ('OJ', 0.5) 7.196253523966689e-06\n",
      "('VC', 2.0) ('OJ', 1.0) 0.09652612338267019\n",
      "('VC', 2.0) ('OJ', 2.0) 0.9638515887233756\n",
      "('VC', 2.0) ('VC', 0.5) 4.681577414622495e-08\n",
      "('VC', 2.0) ('VC', 1.0) 9.155603056631989e-05\n"
     ]
    }
   ],
   "source": [
    "for i in pairs:\n",
    "    for j in pairs:\n",
    "        if i != j:\n",
    "            p = p_value(pairs[i], pairs[j], two_sided=True)\n",
    "            print(i, j, p)"
   ]
  },
  {
   "cell_type": "markdown",
   "metadata": {},
   "source": [
    "## Summary\n",
    "\n",
    "In this lesson, you examined the ANOVA technique to generalize A/B testing methods to multiple groups and factors."
   ]
  }
 ],
 "metadata": {
  "kernelspec": {
   "display_name": "Python 3",
   "language": "python",
   "name": "python3"
  },
  "language_info": {
   "codemirror_mode": {
    "name": "ipython",
    "version": 3
   },
   "file_extension": ".py",
   "mimetype": "text/x-python",
   "name": "python",
   "nbconvert_exporter": "python",
   "pygments_lexer": "ipython3",
   "version": "3.6.4"
  }
 },
 "nbformat": 4,
 "nbformat_minor": 2
}
